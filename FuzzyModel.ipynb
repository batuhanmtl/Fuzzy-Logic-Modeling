{
 "cells": [
  {
   "attachments": {},
   "cell_type": "markdown",
   "metadata": {},
   "source": [
    "# Fuzzy Logic Modeling with Python"
   ]
  },
  {
   "attachments": {},
   "cell_type": "markdown",
   "metadata": {},
   "source": [
    "<b>The modeling of the detergent amount of the washing machine with the Mamdani type fuzzy logic system will be shown on the example. The first step to apply fuzzy logic to a system is to determine the inputs and outputs of the system. In the example problem, the user expects the washing machine to clean the laundry and not damage the laundry. For these expectations, fuzzy logic The inputs of the model and all parameters are very important. The inputs to be applied to the problem are the amount of laundry, the degree of soiling and the type of laundry. These inputs will determine the amount of detergent to be used by the machine.\n",
    "\n",
    "The model is aimed to analyze the most economical and successful washing conditions according to the amount of laundry, the degree of soiling of the laundry and the type of laundry. After the inputs are determined, the membership functions and parameters of the inputs should be determined.\n",
    "\n",
    "The membership functions of the inputs are determined as follows:"
   ]
  },
  {
   "attachments": {},
   "cell_type": "markdown",
   "metadata": {},
   "source": [
    "$amount of laundry = \\begin{cases}\n",
    " & \\text{ few (trapezoid)} =(0,1,5,8)\\\\\n",
    " & \\text{ middle(triangle) } =(6,12,18) \\\\\n",
    " & \\text{ a lot(trapezoid) } = (15,20,30,30)\n",
    "\\end{cases}$\n",
    "\n",
    "$degree of dirty = \\begin{cases}\n",
    " & \\text{ a little dirty (trapezoid)} =(0,5,15,35)\\\\\n",
    " & \\text{ middle dirty (triangle) } =(15,50,85) \\\\\n",
    " & \\text{ a lot dirty (trapezoid)} = (65,100,120,120)\n",
    "\\end{cases}$\n",
    "\n",
    "$type of laundry = \\begin{cases}\n",
    " & \\text{ sensitive (trapezoid)} =(0,5,15,35)\\\\\n",
    " & \\text{ mixed (triangle) } =(15,50,85) \\\\\n",
    " & \\text{ strong (trapezoid)} = (65,100,120,120)\n",
    "\\end{cases}$"
   ]
  },
  {
   "attachments": {},
   "cell_type": "markdown",
   "metadata": {},
   "source": [
    "<b>Membership functions and parameters of the output:\n",
    "\n",
    "$amount of detergent = \\begin{cases}\n",
    " & \\text{ too little (trapezoid)} =(0,5,15,20)\\\\\n",
    " & \\text{ little (triangle)} =(17,32,42) \\\\\n",
    " & \\text{ normal (triangle)} = (32,57,67)\\\\\n",
    " & \\text{ a lot (triangle)} = (57,67,92) \\\\\n",
    " & \\text{ too much (trapezoid)} = (82,92,100,100)\n",
    "\\end{cases}$"
   ]
  },
  {
   "cell_type": "markdown",
   "metadata": {},
   "source": []
  }
 ],
 "metadata": {
  "language_info": {
   "name": "python"
  },
  "orig_nbformat": 4
 },
 "nbformat": 4,
 "nbformat_minor": 2
}
