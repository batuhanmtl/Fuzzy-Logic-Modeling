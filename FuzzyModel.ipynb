{
 "cells": [
  {
   "attachments": {},
   "cell_type": "markdown",
   "metadata": {},
   "source": [
    "# Fuzzy Logic Modeling with Python"
   ]
  },
  {
   "attachments": {},
   "cell_type": "markdown",
   "metadata": {},
   "source": [
    "<b>The modeling of the detergent amount of the washing machine with the Mamdani type fuzzy logic system will be shown on the example. The first step to apply fuzzy logic to a system is to determine the inputs and outputs of the system. In the example problem, the user expects the washing machine to clean the laundry and not damage the laundry. For these expectations, fuzzy logic The inputs of the model and all parameters are very important. The inputs to be applied to the problem are the amount of laundry, the degree of soiling and the type of laundry. These inputs will determine the amount of detergent to be used by the machine.\n",
    "\n",
    "The model is aimed to analyze the most economical and successful washing conditions according to the amount of laundry, the degree of soiling of the laundry and the type of laundry. After the inputs are determined, the membership functions and parameters of the inputs should be determined.\n",
    "\n",
    "The membership functions of the inputs are determined as follows:"
   ]
  },
  {
   "cell_type": "markdown",
   "metadata": {},
   "source": []
  }
 ],
 "metadata": {
  "language_info": {
   "name": "python"
  },
  "orig_nbformat": 4
 },
 "nbformat": 4,
 "nbformat_minor": 2
}
