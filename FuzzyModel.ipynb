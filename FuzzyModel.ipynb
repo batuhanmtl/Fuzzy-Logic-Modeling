{
 "cells": [
  {
   "attachments": {},
   "cell_type": "markdown",
   "metadata": {},
   "source": [
    "# Fuzzy Logic Modeling with Python"
   ]
  },
  {
   "attachments": {},
   "cell_type": "markdown",
   "metadata": {},
   "source": [
    "<b>The modeling of the detergent amount of the washing machine with the Mamdani type fuzzy logic system will be shown on the example. The first step to apply fuzzy logic to a system is to determine the inputs and outputs of the system. In the example problem, the user expects the washing machine to clean the laundry and not damage the laundry. For these expectations, fuzzy logic The inputs of the model and all parameters are very important. The inputs to be applied to the problem are the amount of laundry, the degree of soiling and the type of laundry. These inputs will determine the amount of detergent to be used by the machine.\n",
    "\n",
    "The model is aimed to analyze the most economical and successful washing conditions according to the amount of laundry, the degree of soiling of the laundry and the type of laundry. After the inputs are determined, the membership functions and parameters of the inputs should be determined.\n",
    "\n",
    "The membership functions of the inputs are determined as follows:"
   ]
  },
  {
   "attachments": {},
   "cell_type": "markdown",
   "metadata": {},
   "source": [
    "$amount of laundry = \\begin{cases}\n",
    " & \\text{ few (trapezoid)} =(0,1,5,8)\\\\\n",
    " & \\text{ middle(triangle) } =(6,12,18) \\\\\n",
    " & \\text{ a lot(trapezoid) } = (15,20,30,30)\n",
    "\\end{cases}$\n",
    "\n",
    "$degree of dirty = \\begin{cases}\n",
    " & \\text{ a little dirty (trapezoid)} =(0,5,15,35)\\\\\n",
    " & \\text{ middle dirty (triangle) } =(15,50,85) \\\\\n",
    " & \\text{ a lot dirty (trapezoid)} = (65,100,120,120)\n",
    "\\end{cases}$\n",
    "\n",
    "$type of laundry = \\begin{cases}\n",
    " & \\text{ sensitive (trapezoid)} =(0,5,15,35)\\\\\n",
    " & \\text{ mixed (triangle) } =(15,50,85) \\\\\n",
    " & \\text{ strong (trapezoid)} = (65,100,120,120)\n",
    "\\end{cases}$"
   ]
  },
  {
   "attachments": {},
   "cell_type": "markdown",
   "metadata": {},
   "source": [
    "<b>Membership functions and parameters of the output:\n",
    "\n",
    "$amount of detergent = \\begin{cases}\n",
    " & \\text{ too little (trapezoid)} =(0,5,15,20)\\\\\n",
    " & \\text{ little (triangle)} =(17,32,42) \\\\\n",
    " & \\text{ normal (triangle)} = (32,57,67)\\\\\n",
    " & \\text{ a lot (triangle)} = (57,67,92) \\\\\n",
    " & \\text{ too much (trapezoid)} = (82,92,100,100)\n",
    "\\end{cases}$"
   ]
  },
  {
   "attachments": {},
   "cell_type": "markdown",
   "metadata": {},
   "source": [
    "<b>After determining the membership functions and parameters of the input and output, it is necessary to determine the rule base in order to create the fuzzy logic model. Some of the rules created for this problem are as follows:"
   ]
  },
  {
   "attachments": {},
   "cell_type": "markdown",
   "metadata": {},
   "source": [
    "<b>1-) If the amount of laundry = few AND degree of dirty = a little dirty AND type of laundry = sensitive, IF amount of detergent = too little\n",
    "\n",
    "2-) If the amount of laundry = few AND degree of dirty = a lot dirty AND type of laundry = mixed, IF amount of detergent = normal\n",
    "\n",
    "3-) If amount of laundry = middle AND degree of dirty = middle dirty AND type of laundry = strong IF amount of detergent = normal\n",
    "\n",
    "4-) If the amount of laundry = a lot AND degree of dirty = a lot dirty AND type of laundry = mixed IF amount of detergent = too much<b>"
   ]
  },
  {
   "cell_type": "code",
   "execution_count": 1,
   "metadata": {},
   "outputs": [],
   "source": [
    "import numpy as np\n",
    "import matplotlib.pyplot as plt\n",
    "import skfuzzy as fuzz\n",
    "from skfuzzy import membership as mf"
   ]
  },
  {
   "attachments": {},
   "cell_type": "markdown",
   "metadata": {},
   "source": [
    "<b>We define a range for the amount of laundry, the degree of dirty, the type of laundry and the amount of detergent."
   ]
  },
  {
   "cell_type": "code",
   "execution_count": 2,
   "metadata": {},
   "outputs": [],
   "source": [
    "range_laundry = np.arange(0, 31)\n",
    "range_dirty = np.arange(0, 121)\n",
    "range_type_laundry = np.arange(0, 121)\n",
    "range_detergent = np.arange(0, 101)"
   ]
  },
  {
   "attachments": {},
   "cell_type": "markdown",
   "metadata": {},
   "source": [
    "<b>We create a membership function for each of the linguistic values we have determined. 'trapmf' means trapezoidal membership function and 'trimf' means triangle membership function. For detailed information about the functions, you can refer to the Scikit-Fuzzy documentation."
   ]
  },
  {
   "cell_type": "code",
   "execution_count": 3,
   "metadata": {},
   "outputs": [],
   "source": [
    "laoundry_few = mf.trapmf(range_laundry, [0,1,5,8])\n",
    "laoundry_middle = mf.trimf(range_laundry, [6,12,18])\n",
    "laoundy_alot = mf.trapmf(range_laundry, [15,20,30,30])\n",
    "\n",
    "dirty_alittle = mf.trapmf(range_dirty, [0,5,15,35])\n",
    "dirty_middle = mf.trimf(range_dirty, [15,50,85])\n",
    "dirty_alot = mf.trapmf(range_dirty, [65,100,120,120])\n",
    "\n",
    "type_laundry_sensitive = mf.trapmf(range_type_laundry, [0,5,15,35])\n",
    "type_laundry_mixed = mf.trimf(range_type_laundry, [15,50,85])\n",
    "type_laundry_strong = mf.trapmf(range_type_laundry, [65,100,120,120])\n",
    "\n",
    "detergent_toolittle = mf.trapmf(range_detergent, [0,5,15,20])\n",
    "detergent_little = mf.trimf(range_detergent, [17,32,42])\n",
    "detergent_normal = mf.trimf(range_detergent, [32,57,67])\n",
    "detergent_alot = mf.trimf(range_detergent, [57,67,92])\n",
    "detergent_toomuch = mf.trapmf(range_detergent, [82,92,100,100])\n"
   ]
  },
  {
   "attachments": {},
   "cell_type": "markdown",
   "metadata": {},
   "source": [
    "<b>Let's graph the membership functions we created above and examine their appearance."
   ]
  },
  {
   "cell_type": "code",
   "execution_count": null,
   "metadata": {},
   "outputs": [],
   "source": []
  }
 ],
 "metadata": {
  "kernelspec": {
   "display_name": "Python 3",
   "language": "python",
   "name": "python3"
  },
  "language_info": {
   "codemirror_mode": {
    "name": "ipython",
    "version": 3
   },
   "file_extension": ".py",
   "mimetype": "text/x-python",
   "name": "python",
   "nbconvert_exporter": "python",
   "pygments_lexer": "ipython3",
   "version": "3.8.10"
  },
  "orig_nbformat": 4,
  "vscode": {
   "interpreter": {
    "hash": "3b86cf26b111134157ebe845dcff7287e37fbcdfe2e6a1ab798ab9bf32d5b708"
   }
  }
 },
 "nbformat": 4,
 "nbformat_minor": 2
}
